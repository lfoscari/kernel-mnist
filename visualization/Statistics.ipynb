{
 "cells": [
  {
   "cell_type": "code",
   "execution_count": 1,
   "metadata": {},
   "outputs": [],
   "source": [
    "import sys\n",
    "sys.path.append(\"../\")"
   ]
  },
  {
   "cell_type": "code",
   "execution_count": 2,
   "metadata": {},
   "outputs": [],
   "source": [
    "import matplotlib.pyplot as plt\n",
    "from matplotlib.ticker import StrMethodFormatter\n",
    "\n",
    "import numpy as np\n",
    "import pandas as pd\n",
    "import tikzplotlib\n",
    "\n",
    "import os\n",
    "import shutil\n",
    "\n",
    "from KMeans import RESULTS_LOCATION, REDUCTIONS\n",
    "from utils import EPOCHS, DEGREES\n",
    "\n",
    "OUTPUT = \"./output\""
   ]
  },
  {
   "cell_type": "markdown",
   "metadata": {},
   "source": [
    "Training error"
   ]
  },
  {
   "cell_type": "code",
   "execution_count": 18,
   "metadata": {},
   "outputs": [
    {
     "name": "stdout",
     "output_type": "stream",
     "text": [
      "MIN approach\n",
      "  Reduction: 200\n",
      "    min: 0.0000\n",
      "    max: 0.1495\n",
      "    mean: 0.0144\n",
      "    std: 0.0291\n",
      "    \n",
      "  Reduction: 1000\n",
      "    min: 0.0000\n",
      "    max: 0.0723\n",
      "    mean: 0.0085\n",
      "    std: 0.0143\n",
      "    \n",
      "  Reduction: 1500\n",
      "    min: 0.0000\n",
      "    max: 0.0729\n",
      "    mean: 0.0103\n",
      "    std: 0.0166\n",
      "    \n",
      "MEAN approach\n",
      "  Reduction: 200\n",
      "    min: 0.0000\n",
      "    max: 0.1340\n",
      "    mean: 0.0124\n",
      "    std: 0.0258\n",
      "    \n",
      "  Reduction: 1000\n",
      "    min: 0.0000\n",
      "    max: 0.0663\n",
      "    mean: 0.0102\n",
      "    std: 0.0146\n",
      "    \n",
      "  Reduction: 1500\n",
      "    min: 0.0000\n",
      "    max: 0.0736\n",
      "    mean: 0.0125\n",
      "    std: 0.0169\n",
      "    \n"
     ]
    }
   ],
   "source": [
    "for approach in [\"min\", \"mean\"]:\n",
    "    print(f\"{approach.upper()} approach\")\n",
    "    for red in REDUCTIONS:\n",
    "        tt = pd.read_csv(f\".{RESULTS_LOCATION}/{red}-kmmkp.csv\")[f\"training_error_km_{approach}\"]\n",
    "        print(f\"\"\"  Reduction: {red}\n",
    "    min: {tt.min():.4f}\n",
    "    max: {tt.max():.4f}\n",
    "    mean: {tt.mean():.4f}\n",
    "    std: {tt.std():.4f}\n",
    "    \"\"\")"
   ]
  },
  {
   "cell_type": "markdown",
   "metadata": {},
   "source": [
    "Test error"
   ]
  },
  {
   "cell_type": "code",
   "execution_count": 17,
   "metadata": {},
   "outputs": [
    {
     "name": "stdout",
     "output_type": "stream",
     "text": [
      "MIN approach\n",
      "  Reduction: 200\n",
      "    min: 0.1072\n",
      "    max: 0.2397\n",
      "    mean: 0.1339\n",
      "    std: 0.0289\n",
      "\n",
      "  Reduction: 1000\n",
      "    min: 0.0679\n",
      "    max: 0.1395\n",
      "    mean: 0.0888\n",
      "    std: 0.0209\n",
      "\n",
      "  Reduction: 1500\n",
      "    min: 0.0584\n",
      "    max: 0.1454\n",
      "    mean: 0.0779\n",
      "    std: 0.0242\n",
      "\n",
      "MEAN approach\n",
      "  Reduction: 200\n",
      "    min: 0.1071\n",
      "    max: 0.2309\n",
      "    mean: 0.1301\n",
      "    std: 0.0258\n",
      "\n",
      "  Reduction: 1000\n",
      "    min: 0.0673\n",
      "    max: 0.1365\n",
      "    mean: 0.0861\n",
      "    std: 0.0177\n",
      "\n",
      "  Reduction: 1500\n",
      "    min: 0.0558\n",
      "    max: 0.1315\n",
      "    mean: 0.0747\n",
      "    std: 0.0210\n",
      "\n"
     ]
    }
   ],
   "source": [
    "for approach in [\"min\", \"mean\"]:\n",
    "    print(f\"{approach.upper()} approach\")\n",
    "    for red in REDUCTIONS:\n",
    "        tt = pd.read_csv(f\".{RESULTS_LOCATION}/{red}-kmmkp.csv\")[f\"test_error_{approach}\"]\n",
    "        print(f\"\"\"  Reduction: {red}\n",
    "    min: {tt.min():.4f}\n",
    "    max: {tt.max():.4f}\n",
    "    mean: {tt.mean():.4f}\n",
    "    std: {tt.std():.4f}\n",
    "\"\"\")"
   ]
  },
  {
   "cell_type": "markdown",
   "metadata": {},
   "source": [
    "Training time"
   ]
  },
  {
   "cell_type": "code",
   "execution_count": 16,
   "metadata": {},
   "outputs": [
    {
     "name": "stdout",
     "output_type": "stream",
     "text": [
      "Reduction: 200\n",
      "    min: 0.1021\n",
      "    max: 0.7316\n",
      "    mean: 0.4376\n",
      "    std: 0.1941\n",
      "\n",
      "Reduction: 1000\n",
      "    min: 0.4235\n",
      "    max: 3.8755\n",
      "    mean: 2.1314\n",
      "    std: 1.0851\n",
      "\n",
      "Reduction: 1500\n",
      "    min: 0.6715\n",
      "    max: 8.0533\n",
      "    mean: 3.4517\n",
      "    std: 1.8210\n",
      "\n"
     ]
    }
   ],
   "source": [
    "for red in REDUCTIONS:\n",
    "    tt = pd.read_csv(f\".{RESULTS_LOCATION}/{red}-kmmkp.csv\")[\"training_time\"]\n",
    "    print(f\"\"\"Reduction: {red}\n",
    "    min: {tt.min():.4f}\n",
    "    max: {tt.max():.4f}\n",
    "    mean: {tt.mean():.4f}\n",
    "    std: {tt.std():.4f}\n",
    "\"\"\")"
   ]
  },
  {
   "cell_type": "code",
   "execution_count": null,
   "metadata": {},
   "outputs": [],
   "source": []
  }
 ],
 "metadata": {
  "interpreter": {
   "hash": "6d4c33e2b167f41a40b8eba6e3cd8c051f2edd1d4e112a26327e5cb0d177c02e"
  },
  "kernelspec": {
   "display_name": "Python 3.9.9 64-bit",
   "language": "python",
   "name": "python3"
  },
  "language_info": {
   "codemirror_mode": {
    "name": "ipython",
    "version": 3
   },
   "file_extension": ".py",
   "mimetype": "text/x-python",
   "name": "python",
   "nbconvert_exporter": "python",
   "pygments_lexer": "ipython3",
   "version": "3.9.9"
  },
  "orig_nbformat": 4
 },
 "nbformat": 4,
 "nbformat_minor": 2
}
