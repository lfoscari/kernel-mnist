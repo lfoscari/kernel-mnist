{
 "cells": [
  {
   "cell_type": "markdown",
   "metadata": {
    "pycharm": {
     "name": "#%% md\n"
    }
   },
   "source": [
    "### Data visualisation\n",
    "\n",
    "Define a visual representation for the experimental measurements of the kernel perceptron implementation, then convert them to Tikz using the `tikzplotlib` library. The only graphs neede are heatmaps and line graphs. Save the resulting .tex (and .png for the heatmaps) in `OUTPUT`."
   ]
  },
  {
   "cell_type": "code",
   "execution_count": 10,
   "metadata": {
    "pycharm": {
     "name": "#%%\n"
    }
   },
   "outputs": [],
   "source": [
    "import sys\n",
    "sys.path.append(\"../\")"
   ]
  },
  {
   "cell_type": "code",
   "execution_count": 11,
   "metadata": {
    "pycharm": {
     "name": "#%%\n"
    }
   },
   "outputs": [],
   "source": [
    "import matplotlib.pyplot as plt\n",
    "from matplotlib.ticker import StrMethodFormatter\n",
    "\n",
    "import numpy as np\n",
    "import pandas as pd\n",
    "import tikzplotlib\n",
    "\n",
    "import os\n",
    "import shutil\n",
    "\n",
    "from KMeans import RESULTS_LOCATION, REDUCTIONS\n",
    "from utils import EPOCHS, DEGREES\n",
    "\n",
    "OUTPUT = \"./output\""
   ]
  },
  {
   "cell_type": "code",
   "execution_count": 12,
   "metadata": {},
   "outputs": [],
   "source": [
    "# tikzplotlib in some plots has issue rendering the labels,\n",
    "# they need to be written in LateX notation\n",
    "\n",
    "def fix(labels):\n",
    "    return [f\"${label}$\" for label in labels]"
   ]
  },
  {
   "cell_type": "code",
   "execution_count": 13,
   "metadata": {
    "pycharm": {
     "name": "#%%\n"
    }
   },
   "outputs": [],
   "source": [
    "def heatmap(data, attribute, reduction, max_error, min_error, save=False):\n",
    "    inferno = plt.cm.get_cmap('inferno').reversed()\n",
    "    error = data[attribute].to_numpy().reshape((len(EPOCHS), len(DEGREES)))[::-1]\n",
    "\n",
    "    plt.xticks(ticks=np.arange(len(DEGREES)), labels=fix(DEGREES))\n",
    "    plt.yticks(ticks=np.arange(len(EPOCHS)), labels=fix(EPOCHS[::-1]))\n",
    "\n",
    "    hm = plt.imshow(error, cmap=inferno, vmax=max_error, vmin=min_error)\n",
    "    plt.colorbar(hm, cmap=inferno, format=\"%0.2f\")\n",
    "\n",
    "    plt.xlabel(\"Grado del polinomio\")\n",
    "    plt.ylabel(\"Epoche\")\n",
    "\n",
    "    if save:\n",
    "        tikzplotlib.save(f\"{OUTPUT}/{reduction}_{attribute}.tex\")\n",
    "        plt.close()\n",
    "    else:\n",
    "        plt.show()"
   ]
  },
  {
   "cell_type": "code",
   "execution_count": 14,
   "metadata": {
    "pycharm": {
     "name": "#%%\n"
    }
   },
   "outputs": [],
   "source": [
    "def lines(data, attribute, reduction, max_error, min_error, save=False):\n",
    "    plt.gca().yaxis.set_major_formatter(\"%0.2f\")\n",
    "\n",
    "    for d in DEGREES:\n",
    "        error = data[data[\"degree\"] == d].sort_values(\"epochs\")[attribute]\n",
    "        plt.plot(EPOCHS, error, \"v-\", label=f\"grado {d}\")\n",
    "    \n",
    "    plt.xticks(ticks=np.arange(1, len(EPOCHS) + 1), labels=fix(EPOCHS))\n",
    "    plt.xlabel(\"Epoche\")\n",
    "    \n",
    "    plt.ylabel(attribute.replace(\"_\", \" \").capitalize())\n",
    "    plt.legend(loc=\"upper right\")\n",
    "\n",
    "    if save:\n",
    "        tikzplotlib.save(f\"{OUTPUT}/epochs_{reduction}_{attribute}.tex\")\n",
    "        plt.close()\n",
    "    else:\n",
    "        plt.show()\n",
    "\n",
    "\n",
    "    plt.gca().yaxis.set_major_formatter(\"%0.2f\")\n",
    "\n",
    "    for e in EPOCHS:\n",
    "        error = data[data[\"epochs\"] == e].sort_values(\"degree\")[attribute]\n",
    "        plt.plot(DEGREES, error, \"v-\", label=f\"{e} epoche\")\n",
    "\n",
    "    plt.xticks(ticks=np.arange(1, len(DEGREES) + 1), labels=fix(DEGREES))\n",
    "    plt.xlabel(\"Grado del polinomio\")\n",
    "    \n",
    "    plt.ylabel(attribute.replace(\"_\", \" \").capitalize())\n",
    "    plt.legend(loc=\"upper right\")\n",
    "\n",
    "    if save:\n",
    "        tikzplotlib.save(f\"{OUTPUT}/degree_{reduction}_{attribute}.tex\")\n",
    "        plt.close()\n",
    "    else:\n",
    "        plt.show()"
   ]
  },
  {
   "cell_type": "markdown",
   "metadata": {},
   "source": [
    "Training error"
   ]
  },
  {
   "cell_type": "code",
   "execution_count": 15,
   "metadata": {},
   "outputs": [
    {
     "name": "stdout",
     "output_type": "stream",
     "text": [
      "Reduction: 200\n",
      "    min: 0.0000,\n",
      "    max: 0.2990,\n",
      "    mean: 0.0590,\n",
      "    std: 0.0793\n",
      "\n",
      "Reduction: 1000\n",
      "    min: 0.0000,\n",
      "    max: 0.2440,\n",
      "    mean: 0.0323,\n",
      "    std: 0.0536\n",
      "\n",
      "Reduction: 1500\n",
      "    min: 0.0000,\n",
      "    max: 0.2147,\n",
      "    mean: 0.0318,\n",
      "    std: 0.0524\n",
      "\n"
     ]
    }
   ],
   "source": [
    "for red in REDUCTIONS:\n",
    "    tt = pd.read_csv(f\".{RESULTS_LOCATION}/{red}-kmmkp.csv\")[\"training_error\"]\n",
    "    print(f\"\"\"Reduction: {red}\n",
    "    min: {tt.min():.4f},\n",
    "    max: {tt.max():.4f},\n",
    "    mean: {tt.mean():.4f},\n",
    "    std: {tt.std():.4f}\n",
    "\"\"\")"
   ]
  },
  {
   "cell_type": "markdown",
   "metadata": {},
   "source": [
    "Test error"
   ]
  },
  {
   "cell_type": "code",
   "execution_count": 16,
   "metadata": {},
   "outputs": [
    {
     "name": "stdout",
     "output_type": "stream",
     "text": [
      "Reduction: 200\n",
      "    min: 0.1449,\n",
      "    max: 0.3033,\n",
      "    mean: 0.1806,\n",
      "    std: 0.0411\n",
      "\n",
      "Reduction: 1000\n",
      "    min: 0.0870,\n",
      "    max: 0.2218,\n",
      "    mean: 0.1182,\n",
      "    std: 0.0416\n",
      "\n",
      "Reduction: 1500\n",
      "    min: 0.0759,\n",
      "    max: 0.2040,\n",
      "    mean: 0.1063,\n",
      "    std: 0.0404\n",
      "\n"
     ]
    }
   ],
   "source": [
    "for red in REDUCTIONS:\n",
    "    tt = pd.read_csv(f\".{RESULTS_LOCATION}/{red}-kmmkp.csv\")[\"test_error\"]\n",
    "    print(f\"\"\"Reduction: {red}\n",
    "    min: {tt.min():.4f},\n",
    "    max: {tt.max():.4f},\n",
    "    mean: {tt.mean():.4f},\n",
    "    std: {tt.std():.4f}\n",
    "\"\"\")"
   ]
  },
  {
   "cell_type": "markdown",
   "metadata": {},
   "source": [
    "Training time"
   ]
  },
  {
   "cell_type": "code",
   "execution_count": 17,
   "metadata": {},
   "outputs": [
    {
     "name": "stdout",
     "output_type": "stream",
     "text": [
      "Reduction: 200\n",
      "    min: 0.0714,\n",
      "    max: 0.6982,\n",
      "    mean: 0.3777,\n",
      "    std: 0.1964\n",
      "\n",
      "Reduction: 1000\n",
      "    min: 0.3693,\n",
      "    max: 3.5176,\n",
      "    mean: 1.9894,\n",
      "    std: 1.0133\n",
      "\n",
      "Reduction: 1500\n",
      "    min: 0.6230,\n",
      "    max: 6.5353,\n",
      "    mean: 3.4515,\n",
      "    std: 1.8373\n",
      "\n"
     ]
    }
   ],
   "source": [
    "for red in REDUCTIONS:\n",
    "    tt = pd.read_csv(f\".{RESULTS_LOCATION}/{red}-kmmkp.csv\")[\"training_time\"]\n",
    "    print(f\"\"\"Reduction: {red}\n",
    "    min: {tt.min():.4f},\n",
    "    max: {tt.max():.4f},\n",
    "    mean: {tt.mean():.4f},\n",
    "    std: {tt.std():.4f}\n",
    "\"\"\")"
   ]
  },
  {
   "cell_type": "code",
   "execution_count": 18,
   "metadata": {
    "pycharm": {
     "name": "#%%\n"
    }
   },
   "outputs": [],
   "source": [
    "if os.path.exists(OUTPUT):\n",
    "    shutil.rmtree(OUTPUT)\n",
    "\n",
    "os.mkdir(OUTPUT)\n",
    "\n",
    "plt.rcParams['figure.figsize'] = [10, 8]\n",
    "\n",
    "max_err = pd.read_csv(f\".{RESULTS_LOCATION}/{min(REDUCTIONS)}-kmmkp.csv\")\n",
    "min_err = pd.read_csv(f\".{RESULTS_LOCATION}/{max(REDUCTIONS)}-kmmkp.csv\")\n",
    "\n",
    "max_test_error = max_err[\"test_error\"].max()\n",
    "min_test_error = min_err[\"test_error\"].min()\n",
    "\n",
    "max_training_error = max_err[\"training_error\"].max()\n",
    "min_training_error = min_err[\"training_error\"].min()\n",
    "\n",
    "for red in REDUCTIONS:\n",
    "    results = pd.read_csv(f\".{RESULTS_LOCATION}/{red}-kmmkp.csv\")\n",
    "\n",
    "    heatmap(results, \"test_error\", red, max_test_error, min_test_error, save=True)\n",
    "    heatmap(results, \"training_error\", red, max_training_error, min_training_error, save=True)\n",
    "\n",
    "    lines(results, \"test_error\", red, max_test_error, min_test_error, save=True)\n",
    "    lines(results, \"training_error\", red, max_training_error, min_training_error, save=True)"
   ]
  }
 ],
 "metadata": {
  "kernelspec": {
   "display_name": "Python 3 (ipykernel)",
   "language": "python",
   "name": "python3"
  },
  "language_info": {
   "codemirror_mode": {
    "name": "ipython",
    "version": 3
   },
   "file_extension": ".py",
   "mimetype": "text/x-python",
   "name": "python",
   "nbconvert_exporter": "python",
   "pygments_lexer": "ipython3",
   "version": "3.9.9"
  }
 },
 "nbformat": 4,
 "nbformat_minor": 1
}
