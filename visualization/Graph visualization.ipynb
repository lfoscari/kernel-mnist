{
 "cells": [
  {
   "cell_type": "markdown",
   "metadata": {
    "pycharm": {
     "name": "#%% md\n"
    }
   },
   "source": [
    "### Data visualisation\n",
    "\n",
    "Define a visual representation for the experimental measurements of the kernel perceptron implementation, then convert them to Tikz using the `tikzplotlib` library. The only graphs needed are heatmaps and line graphs. Save the resulting .tex (and .png for the heatmaps) in `OUTPUT`."
   ]
  },
  {
   "cell_type": "code",
   "execution_count": 1,
   "metadata": {
    "pycharm": {
     "name": "#%%\n"
    }
   },
   "outputs": [],
   "source": [
    "import sys\n",
    "sys.path.append(\"../\")"
   ]
  },
  {
   "cell_type": "code",
   "execution_count": 2,
   "metadata": {
    "pycharm": {
     "name": "#%%\n"
    }
   },
   "outputs": [],
   "source": [
    "import matplotlib.pyplot as plt\n",
    "from matplotlib.ticker import StrMethodFormatter\n",
    "\n",
    "import numpy as np\n",
    "import pandas as pd\n",
    "import tikzplotlib\n",
    "\n",
    "import os\n",
    "import shutil\n",
    "\n",
    "from KMeans import RESULTS_LOCATION, REDUCTIONS\n",
    "from utils import EPOCHS, DEGREES\n",
    "\n",
    "OUTPUT = \"./output\""
   ]
  },
  {
   "cell_type": "code",
   "execution_count": 3,
   "metadata": {},
   "outputs": [],
   "source": [
    "# tikzplotlib in some plots has issue rendering the labels,\n",
    "# they need to be written in LateX notation\n",
    "\n",
    "def fix(labels):\n",
    "    return [f\"${label}$\" for label in labels]"
   ]
  },
  {
   "cell_type": "code",
   "execution_count": 4,
   "metadata": {
    "pycharm": {
     "name": "#%%\n"
    }
   },
   "outputs": [],
   "source": [
    "def heatmap(data, attribute, reduction, max_error, min_error, save=False):\n",
    "    inferno = plt.cm.get_cmap('inferno').reversed()\n",
    "    error = data[attribute].to_numpy().reshape((len(EPOCHS), len(DEGREES)))[::-1]\n",
    "\n",
    "    plt.xticks(ticks=np.arange(len(DEGREES)), labels=fix(DEGREES))\n",
    "    plt.yticks(ticks=np.arange(len(EPOCHS)), labels=fix(EPOCHS[::-1]))\n",
    "\n",
    "    hm = plt.imshow(error, cmap=inferno, vmax=max_error, vmin=min_error)\n",
    "    plt.colorbar(hm, cmap=inferno, format=\"%0.2f\")\n",
    "\n",
    "    plt.xlabel(\"Grado del polinomio\")\n",
    "    plt.ylabel(\"Epoche\")\n",
    "\n",
    "    if save:\n",
    "        tikzplotlib.save(f\"{OUTPUT}/{reduction}_{attribute}.tex\")\n",
    "        plt.close()\n",
    "    else:\n",
    "        plt.show()"
   ]
  },
  {
   "cell_type": "code",
   "execution_count": 5,
   "metadata": {
    "pycharm": {
     "name": "#%%\n"
    }
   },
   "outputs": [],
   "source": [
    "def lines(data, attribute, reduction, max_error, min_error, save=False):\n",
    "    plt.gca().yaxis.set_major_formatter(\"%0.2f\")\n",
    "\n",
    "    for d in DEGREES:\n",
    "        error = data[data[\"degree\"] == d].sort_values(\"epochs\")[attribute]\n",
    "        plt.plot(EPOCHS, error, \"v-\", label=f\"grado {d}\")\n",
    "    \n",
    "    plt.xticks(ticks=np.arange(1, len(EPOCHS) + 1), labels=fix(EPOCHS))\n",
    "    plt.xlabel(\"Epoche\")\n",
    "    \n",
    "    plt.ylabel(attribute.replace(\"_\", \" \").capitalize())\n",
    "    plt.legend(loc=\"upper right\")\n",
    "\n",
    "    if save:\n",
    "        tikzplotlib.save(f\"{OUTPUT}/epochs_{reduction}_{attribute}.tex\")\n",
    "        plt.close()\n",
    "    else:\n",
    "        plt.show()\n",
    "\n",
    "\n",
    "    plt.gca().yaxis.set_major_formatter(\"%0.2f\")\n",
    "\n",
    "    for e in EPOCHS:\n",
    "        error = data[data[\"epochs\"] == e].sort_values(\"degree\")[attribute]\n",
    "        plt.plot(DEGREES, error, \"v-\", label=f\"{e} epoche\")\n",
    "\n",
    "    plt.xticks(ticks=np.arange(1, len(DEGREES) + 1), labels=fix(DEGREES))\n",
    "    plt.xlabel(\"Grado del polinomio\")\n",
    "    \n",
    "    plt.ylabel(attribute.replace(\"_\", \" \").capitalize())\n",
    "    plt.legend(loc=\"upper right\")\n",
    "\n",
    "    if save:\n",
    "        tikzplotlib.save(f\"{OUTPUT}/degree_{reduction}_{attribute}.tex\")\n",
    "        plt.close()\n",
    "    else:\n",
    "        plt.show()"
   ]
  },
  {
   "cell_type": "markdown",
   "metadata": {},
   "source": [
    "Convert matplotlib plots into tikz plots"
   ]
  },
  {
   "cell_type": "code",
   "execution_count": 7,
   "metadata": {
    "pycharm": {
     "name": "#%%\n"
    }
   },
   "outputs": [],
   "source": [
    "if os.path.exists(OUTPUT):\n",
    "    shutil.rmtree(OUTPUT)\n",
    "\n",
    "os.mkdir(OUTPUT)\n",
    "\n",
    "plt.rcParams['figure.figsize'] = [10, 8]\n",
    "\n",
    "for approach in [\"min\", \"mean\"]:\n",
    "    for red in REDUCTIONS:\n",
    "        max_err = pd.read_csv(f\".{RESULTS_LOCATION}/{min(REDUCTIONS)}-kmmkp.csv\")\n",
    "        min_err = pd.read_csv(f\".{RESULTS_LOCATION}/{max(REDUCTIONS)}-kmmkp.csv\")\n",
    "\n",
    "        max_test_error = max_err[f\"test_error_{approach}\"].max()\n",
    "        min_test_error = min_err[f\"test_error_{approach}\"].min()\n",
    "\n",
    "        max_training_error = max_err[f\"training_error_km_{approach}\"].max()\n",
    "        min_training_error = min_err[f\"training_error_km_{approach}\"].min()\n",
    "\n",
    "        results = pd.read_csv(f\".{RESULTS_LOCATION}/{red}-kmmkp.csv\")\n",
    "\n",
    "        heatmap(results, f\"test_error_{approach}\", red, max_test_error, min_test_error, save=True)\n",
    "        heatmap(results, f\"training_error_km_{approach}\", red, max_training_error, min_training_error, save=True)\n",
    "\n",
    "        lines(results, f\"test_error_{approach}\", red, max_test_error, min_test_error, save=True)\n",
    "        lines(results, f\"training_error_km_{approach}\", red, max_training_error, min_training_error, save=True)"
   ]
  }
 ],
 "metadata": {
  "kernelspec": {
   "display_name": "Python 3 (ipykernel)",
   "language": "python",
   "name": "python3"
  },
  "language_info": {
   "codemirror_mode": {
    "name": "ipython",
    "version": 3
   },
   "file_extension": ".py",
   "mimetype": "text/x-python",
   "name": "python",
   "nbconvert_exporter": "python",
   "pygments_lexer": "ipython3",
   "version": "3.9.9"
  }
 },
 "nbformat": 4,
 "nbformat_minor": 1
}
