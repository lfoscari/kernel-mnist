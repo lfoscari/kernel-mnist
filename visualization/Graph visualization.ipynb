{
 "cells": [
  {
   "cell_type": "markdown",
   "metadata": {
    "pycharm": {
     "name": "#%% md\n"
    }
   },
   "source": [
    "### Data visualisation\n",
    "\n",
    "Define a visual representation for the experimental measurements of the kernel perceptron implementation, then convert them to Tikz using the `tikzplotlib` library. The only graphs needed are heatmaps and line graphs. Save the resulting .tex (and .png for the heatmaps) in `OUTPUT`."
   ]
  },
  {
   "cell_type": "code",
   "execution_count": 232,
   "metadata": {
    "pycharm": {
     "name": "#%%\n"
    }
   },
   "outputs": [],
   "source": [
    "import sys\n",
    "sys.path.append(\"../\")"
   ]
  },
  {
   "cell_type": "code",
   "execution_count": 233,
   "metadata": {
    "pycharm": {
     "name": "#%%\n"
    }
   },
   "outputs": [],
   "source": [
    "import matplotlib.pyplot as plt\n",
    "import numpy as np\n",
    "import pandas as pd\n",
    "import tikzplotlib\n",
    "import json\n",
    "\n",
    "import os\n",
    "import shutil\n",
    "\n",
    "from KMeans import REDUCTIONS\n",
    "from experiments import RESULTS_LOCATION\n",
    "from utils import APPROACHES\n",
    "\n",
    "TIKZ_GRAPHS = \"graphs\"\n",
    "results = json.load(open(f\".{RESULTS_LOCATION}\"))"
   ]
  },
  {
   "cell_type": "code",
   "execution_count": 234,
   "metadata": {},
   "outputs": [],
   "source": [
    "# tikzplotlib in some plots has issue rendering the labels,\n",
    "# they need to be written in LateX notation\n",
    "\n",
    "def fix(labels):\n",
    "    return [f\"${label}$\" for label in labels]\n",
    "\n",
    "def posneg(l):\n",
    "    return [0] + sum([[v, -v] for v in range(1, l)], start=[])"
   ]
  },
  {
   "cell_type": "markdown",
   "metadata": {},
   "source": [
    "Find maximum between training and test error"
   ]
  },
  {
   "cell_type": "code",
   "execution_count": 235,
   "metadata": {},
   "outputs": [],
   "source": [
    "max_test_error = max(max(app[approach][\"test_error\"] for approach in APPROACHES) for app in results.values())\n",
    "max_training_error = max(max(app[approach][\"training_error_km\"] for approach in APPROACHES) for app in results.values())\n",
    "\n",
    "max_error = max(max_test_error, max_training_error)"
   ]
  },
  {
   "cell_type": "markdown",
   "metadata": {},
   "source": [
    "Convert matplotlib plots into tikz plots"
   ]
  },
  {
   "cell_type": "code",
   "execution_count": 236,
   "metadata": {
    "pycharm": {
     "name": "#%%\n"
    }
   },
   "outputs": [],
   "source": [
    "if os.path.exists(TIKZ_GRAPHS):\n",
    "    shutil.rmtree(TIKZ_GRAPHS)\n",
    "\n",
    "os.mkdir(TIKZ_GRAPHS)\n",
    "\n",
    "colors  = [\"#ffb2b2\", \"#ecd9c6\", \"#b2b2ff\"]\n",
    "borders = [\"#ff0000\", \"#734c26\", \"#0000ff\"]"
   ]
  },
  {
   "cell_type": "code",
   "execution_count": 237,
   "metadata": {},
   "outputs": [],
   "source": [
    "def double_bar(attribute, label, filename):\n",
    "\tplt.rcParams['figure.figsize'] = [10, 8]\n",
    "\twidth = 0.6\n",
    "\n",
    "\terrors = [[k[approach][attribute] for k in results.values()] for approach in APPROACHES]\n",
    "\n",
    "\tx = np.arange(len(REDUCTIONS))\n",
    "\ty = np.linspace(0, max_error, 7)\n",
    "\n",
    "\tfor index, approach, error in zip(posneg(len(APPROACHES)), APPROACHES, errors):\n",
    "\t\tplt.bar(x + index * (width / len(REDUCTIONS)), error, width / len(REDUCTIONS), label=approach, color=colors[index], edgecolor=borders[index])\n",
    "\n",
    "\tplt.xticks(x, fix(REDUCTIONS))\n",
    "\tplt.yticks(y, fix([f\"{f:.2f}\" for f in y]))\n",
    "\tplt.xlabel(\"$k$\")\n",
    "\tplt.ylabel(label)\n",
    "\tplt.grid(which=\"major\", axis=\"y\")\n",
    "\tplt.legend()\n",
    "\n",
    "\t# plt.show()\n",
    "\n",
    "\ttikzplotlib.save(f\"{TIKZ_GRAPHS}/{filename}\")\n",
    "\tplt.close()\n"
   ]
  },
  {
   "cell_type": "code",
   "execution_count": 238,
   "metadata": {},
   "outputs": [],
   "source": [
    "double_bar(\"test_error\", \"Test error\", \"test-error.tex\")\n",
    "double_bar(\"training_error_km\", \"Training error\", \"training-error.tex\")"
   ]
  },
  {
   "cell_type": "code",
   "execution_count": null,
   "metadata": {},
   "outputs": [],
   "source": []
  }
 ],
 "metadata": {
  "kernelspec": {
   "display_name": "Python 3 (ipykernel)",
   "language": "python",
   "name": "python3"
  },
  "language_info": {
   "codemirror_mode": {
    "name": "ipython",
    "version": 3
   },
   "file_extension": ".py",
   "mimetype": "text/x-python",
   "name": "python",
   "nbconvert_exporter": "python",
   "pygments_lexer": "ipython3",
   "version": "3.9.9"
  }
 },
 "nbformat": 4,
 "nbformat_minor": 1
}
