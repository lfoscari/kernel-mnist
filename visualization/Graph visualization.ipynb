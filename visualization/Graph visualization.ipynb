{
 "cells": [
  {
   "cell_type": "markdown",
   "metadata": {
    "pycharm": {
     "name": "#%% md\n"
    }
   },
   "source": [
    "### Data visualisation\n",
    "\n",
    "Define a visual representation for the experimental measurements of the kernel perceptron implementation, then convert them to Tikz using the `tikzplotlib` library. The only graphs needed are heatmaps and line graphs. Save the resulting .tex (and .png for the heatmaps) in `OUTPUT`."
   ]
  },
  {
   "cell_type": "code",
   "execution_count": 16,
   "metadata": {
    "pycharm": {
     "name": "#%%\n"
    }
   },
   "outputs": [],
   "source": [
    "import sys\n",
    "sys.path.append(\"../\")"
   ]
  },
  {
   "cell_type": "code",
   "execution_count": 17,
   "metadata": {
    "pycharm": {
     "name": "#%%\n"
    }
   },
   "outputs": [],
   "source": [
    "import matplotlib.pyplot as plt\n",
    "import numpy as np\n",
    "import tikzplotlib\n",
    "import json\n",
    "\n",
    "import os\n",
    "import shutil\n",
    "\n",
    "from KMeans import REDUCTIONS\n",
    "from experiments import RESULTS_LOCATION\n",
    "from utils import APPROACHES\n",
    "\n",
    "TIKZ_GRAPHS = \"graphs\"\n",
    "results = json.load(open(f\".{RESULTS_LOCATION}\"))"
   ]
  },
  {
   "cell_type": "code",
   "execution_count": 18,
   "metadata": {
    "pycharm": {
     "name": "#%%\n"
    }
   },
   "outputs": [],
   "source": [
    "# tikzplotlib in some plots has issue rendering the labels,\n",
    "# they need to be written in LateX notation\n",
    "\n",
    "def fix(labels):\n",
    "    return [f\"${label}$\" for label in labels]"
   ]
  },
  {
   "cell_type": "markdown",
   "metadata": {
    "pycharm": {
     "name": "#%% md\n"
    }
   },
   "source": [
    "Find maximum between training and test error"
   ]
  },
  {
   "cell_type": "code",
   "execution_count": 19,
   "metadata": {
    "pycharm": {
     "name": "#%%\n"
    }
   },
   "outputs": [],
   "source": [
    "max_test_error = max(max(app[approach][\"test_error\"] for approach in APPROACHES) for app in results.values())\n",
    "max_training_error = max(max(app[approach][\"training_error\"] for approach in APPROACHES) for app in results.values())\n",
    "\n",
    "max_error = max(max_test_error, max_training_error)"
   ]
  },
  {
   "cell_type": "markdown",
   "metadata": {
    "pycharm": {
     "name": "#%% md\n"
    }
   },
   "source": [
    "Convert matplotlib plots into tikz plots"
   ]
  },
  {
   "cell_type": "code",
   "execution_count": 20,
   "metadata": {
    "pycharm": {
     "name": "#%%\n"
    }
   },
   "outputs": [],
   "source": [
    "if os.path.exists(TIKZ_GRAPHS):\n",
    "    shutil.rmtree(TIKZ_GRAPHS)\n",
    "\n",
    "os.mkdir(TIKZ_GRAPHS)\n",
    "\n",
    "colors  = [\"#b2b2ff\", \"#ffb2b2\", \"#c6ffce\", \"#ecd9c6\"]"
   ]
  },
  {
   "cell_type": "code",
   "execution_count": 21,
   "metadata": {
    "pycharm": {
     "name": "#%%\n"
    }
   },
   "outputs": [],
   "source": [
    "def double_bar(attribute, label, filename):\n",
    "\tplt.rcParams['figure.figsize'] = [10, 8]\n",
    "\twidth = 0.6\n",
    "\n",
    "\terrors = [[k[approach][attribute] for k in results.values()] for approach in APPROACHES]\n",
    "\n",
    "\tx = np.arange(len(REDUCTIONS))\n",
    "\ty = np.linspace(0, max_error, 7)\n",
    "\n",
    "\tfor index, (approach, error) in enumerate(zip(APPROACHES, errors)):\n",
    "\t\tplt.bar(x + index * (width / len(REDUCTIONS)), error, width / len(REDUCTIONS), label=approach, color=colors[index], edgecolor=\"black\", alpha=0.8)\n",
    "\n",
    "\tplt.xticks([i + width / 2 for i in range(len(REDUCTIONS))], fix(REDUCTIONS))\n",
    "\tplt.yticks(y, fix([f\"{f:.2f}\" for f in y]))\n",
    "\tplt.xlabel(\"$k$\")\n",
    "\tplt.ylabel(label)\n",
    "\tplt.grid(which=\"major\", axis=\"y\")\n",
    "\tplt.legend()\n",
    "\n",
    "\t# plt.show()\n",
    "\n",
    "\ttikzplotlib.save(f\"{TIKZ_GRAPHS}/{filename}\")\n",
    "\tplt.close()\n"
   ]
  },
  {
   "cell_type": "code",
   "execution_count": 22,
   "metadata": {
    "pycharm": {
     "name": "#%%\n"
    }
   },
   "outputs": [],
   "source": [
    "double_bar(\"test_error\", \"Test error\", \"test-error.tex\")\n",
    "double_bar(\"training_error\", \"Training error\", \"training-error.tex\")"
   ]
  }
 ],
 "metadata": {
  "kernelspec": {
   "display_name": "Python 3 (ipykernel)",
   "language": "python",
   "name": "python3"
  },
  "language_info": {
   "codemirror_mode": {
    "name": "ipython",
    "version": 3
   },
   "file_extension": ".py",
   "mimetype": "text/x-python",
   "name": "python",
   "nbconvert_exporter": "python",
   "pygments_lexer": "ipython3",
   "version": "3.9.9"
  }
 },
 "nbformat": 4,
 "nbformat_minor": 1
}
