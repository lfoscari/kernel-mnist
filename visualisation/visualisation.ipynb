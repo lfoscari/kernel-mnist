{
 "cells": [
  {
   "cell_type": "markdown",
   "metadata": {
    "pycharm": {
     "name": "#%% md\n"
    }
   },
   "source": [
    "### Data visualisation\n",
    "\n",
    "Define a visual representation for the experimental measurements of the kernel perceptron implementation, then convert them to Tikz using the `tikzplotlib` library. The only graphs neede are heatmaps and line graphs. Save the resulting .tex (and .png for the heatmaps) in `OUTPUT`."
   ]
  },
  {
   "cell_type": "code",
   "execution_count": 1,
   "metadata": {
    "pycharm": {
     "name": "#%%\n"
    }
   },
   "outputs": [],
   "source": [
    "import sys\n",
    "sys.path.append(\"../\")"
   ]
  },
  {
   "cell_type": "code",
   "execution_count": 2,
   "metadata": {
    "pycharm": {
     "name": "#%%\n"
    }
   },
   "outputs": [],
   "source": [
    "import matplotlib.pyplot as plt\n",
    "import numpy as np\n",
    "import pandas as pd\n",
    "import tikzplotlib\n",
    "\n",
    "import os\n",
    "import shutil\n",
    "\n",
    "from KMeans import RESULTS_LOCATION, REDUCTIONS\n",
    "from utils import EPOCHS, DEGREES\n",
    "\n",
    "OUTPUT = \"./output\""
   ]
  },
  {
   "cell_type": "code",
   "execution_count": 3,
   "metadata": {},
   "outputs": [],
   "source": [
    "# tikzplotlib in some plots has issue rendering the labels,\n",
    "# they need to be written in LateX notation\n",
    "\n",
    "def fix(labels):\n",
    "    return [f\"${label}$\" for label in labels]"
   ]
  },
  {
   "cell_type": "code",
   "execution_count": 4,
   "metadata": {
    "pycharm": {
     "name": "#%%\n"
    }
   },
   "outputs": [],
   "source": [
    "def heatmap(data, attribute, reduction, max_error, min_error):\n",
    "    inferno = plt.cm.get_cmap('inferno').reversed()\n",
    "    error = data[attribute].to_numpy().reshape((len(EPOCHS), len(DEGREES)))[::-1]\n",
    "\n",
    "    plt.xticks(ticks=np.arange(len(DEGREES)), labels=DEGREES)\n",
    "    plt.yticks(ticks=np.arange(len(EPOCHS)), labels=EPOCHS[::-1])\n",
    "\n",
    "    hm = plt.imshow(error, cmap=inferno, vmax=max_error, vmin=min_error)\n",
    "    plt.colorbar(hm, cmap=inferno)\n",
    "\n",
    "    plt.xlabel(\"Grado del polinomio\")\n",
    "    plt.ylabel(\"Epoche\")\n",
    "\n",
    "    tikzplotlib.save(f\"{OUTPUT}/{reduction}_{attribute}.tex\")\n",
    "    plt.close()"
   ]
  },
  {
   "cell_type": "code",
   "execution_count": 5,
   "metadata": {
    "pycharm": {
     "name": "#%%\n"
    }
   },
   "outputs": [],
   "source": [
    "def lines(data, attribute, reduction, max_error, min_error):\n",
    "    for d in DEGREES:\n",
    "        error = data[data[\"degree\"] == d].sort_values(\"epochs\")[attribute]\n",
    "        plt.plot(EPOCHS, error, \"v-\", label=f\"grado {d}\")\n",
    "    \n",
    "    plt.xticks(ticks=np.arange(1, len(EPOCHS) + 1), labels=fix(EPOCHS))\n",
    "    plt.xlabel(\"Epoche\")\n",
    "    \n",
    "    plt.ylabel(attribute.replace(\"_\", \" \").capitalize())\n",
    "    plt.legend(loc=\"upper right\")\n",
    "\n",
    "    tikzplotlib.save(f\"{OUTPUT}/epochs_{reduction}_{attribute}.tex\")\n",
    "    plt.close()\n",
    "    \n",
    "\n",
    "    for e in EPOCHS:\n",
    "        error = data[data[\"epochs\"] == e].sort_values(\"degree\")[attribute]\n",
    "        plt.plot(DEGREES, error, \"v-\", label=f\"{e} epoche\")\n",
    "\n",
    "    plt.xticks(ticks=np.arange(1, len(DEGREES) + 1), labels=fix(DEGREES))\n",
    "    plt.xlabel(\"Grado del polinomio\")\n",
    "    \n",
    "    plt.ylabel(attribute.replace(\"_\", \" \").capitalize())\n",
    "    plt.legend(loc=\"upper right\")\n",
    "\n",
    "    tikzplotlib.save(f\"{OUTPUT}/degree_{reduction}_{attribute}.tex\")\n",
    "    plt.close()"
   ]
  },
  {
   "cell_type": "code",
   "execution_count": 14,
   "metadata": {},
   "outputs": [
    {
     "name": "stdout",
     "output_type": "stream",
     "text": [
      "Reduction: 200\n",
      "    min: 0.0816,\n",
      "    max: 0.5751,\n",
      "    mean: 0.2728,\n",
      "    std: 0.0993\n",
      "\n",
      "Reduction: 1000\n",
      "    min: 0.4595,\n",
      "    max: 3.4207,\n",
      "    mean: 1.6032,\n",
      "    std: 0.6345\n",
      "\n",
      "Reduction: 1500\n",
      "    min: 0.5966,\n",
      "    max: 5.6043,\n",
      "    mean: 2.5554,\n",
      "    std: 1.1576\n",
      "\n"
     ]
    }
   ],
   "source": [
    "for red in REDUCTIONS:\n",
    "    tt = pd.read_csv(f\".{RESULTS_LOCATION}/{red}-kmmkp.csv\")[\"training_time\"]\n",
    "    print(f\"\"\"Reduction: {red}\n",
    "    min: {tt.min():.4f},\n",
    "    max: {tt.max():.4f},\n",
    "    mean: {tt.mean():.4f},\n",
    "    std: {tt.std():.4f}\n",
    "\"\"\")"
   ]
  },
  {
   "cell_type": "code",
   "execution_count": 95,
   "metadata": {
    "pycharm": {
     "name": "#%%\n"
    }
   },
   "outputs": [],
   "source": [
    "if os.path.exists(OUTPUT):\n",
    "    shutil.rmtree(OUTPUT)\n",
    "\n",
    "os.mkdir(OUTPUT)\n",
    "\n",
    "plt.rcParams['figure.figsize'] = [10, 8]\n",
    "\n",
    "max_err = pd.read_csv(f\".{RESULTS_LOCATION}/{min(REDUCTIONS)}-kmmkp.csv\")\n",
    "min_err = pd.read_csv(f\".{RESULTS_LOCATION}/{max(REDUCTIONS)}-kmmkp.csv\")\n",
    "\n",
    "max_test_error = max_err[\"test_error\"].max()\n",
    "min_test_error = min_err[\"test_error\"].min()\n",
    "\n",
    "max_training_error = max_err[\"training_error\"].max()\n",
    "min_training_error = min_err[\"training_error\"].min()\n",
    "\n",
    "for red in REDUCTIONS:\n",
    "    results = pd.read_csv(f\".{RESULTS_LOCATION}/{red}-kmmkp.csv\")\n",
    "\n",
    "    heatmap(results, \"test_error\", red, max_test_error, min_test_error)\n",
    "    heatmap(results, \"training_error\", red, max_training_error, min_training_error)\n",
    "\n",
    "    lines(results, \"test_error\", red, max_test_error, min_test_error)\n",
    "    lines(results, \"training_error\", red, max_training_error, min_training_error)"
   ]
  },
  {
   "cell_type": "code",
   "execution_count": null,
   "metadata": {},
   "outputs": [],
   "source": []
  }
 ],
 "metadata": {
  "kernelspec": {
   "display_name": "Python 3 (ipykernel)",
   "language": "python",
   "name": "python3"
  },
  "language_info": {
   "codemirror_mode": {
    "name": "ipython",
    "version": 3
   },
   "file_extension": ".py",
   "mimetype": "text/x-python",
   "name": "python",
   "nbconvert_exporter": "python",
   "pygments_lexer": "ipython3",
   "version": "3.9.9"
  }
 },
 "nbformat": 4,
 "nbformat_minor": 1
}