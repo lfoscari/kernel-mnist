{
 "cells": [
  {
   "cell_type": "code",
   "execution_count": 119,
   "metadata": {
    "collapsed": true
   },
   "outputs": [],
   "source": [
    "import matplotlib.pyplot as plt\n",
    "import numpy as np\n",
    "import pandas as pd\n",
    "import tikzplotlib\n",
    "\n",
    "import os\n",
    "import shutil\n",
    "\n",
    "from KMeans import RESULTS_LOCATION, REDUCTIONS\n",
    "from utils import EPOCHS, DEGREES\n",
    "\n",
    "OUTPUT = \"./output\""
   ]
  },
  {
   "cell_type": "code",
   "execution_count": 120,
   "outputs": [],
   "source": [
    "def heatmap(data, attribute, reduction):\n",
    "    inferno = plt.cm.get_cmap('inferno').reversed()\n",
    "    error = data[attribute].to_numpy().reshape((len(EPOCHS), len(DEGREES)))\n",
    "\n",
    "    plt.yticks(ticks=np.arange(len(EPOCHS)), labels=EPOCHS[::-1])\n",
    "    plt.xticks(ticks=np.arange(len(DEGREES)), labels=DEGREES)\n",
    "\n",
    "    hm = plt.imshow(error, cmap=inferno)\n",
    "    plt.colorbar(hm, cmap=inferno)\n",
    "\n",
    "    plt.xlabel(\"Epoche\")\n",
    "    plt.ylabel(\"Grado del polinomio\")\n",
    "\n",
    "    tikzplotlib.save(f\"{OUTPUT}/{reduction}_{attribute}.tex\")\n",
    "    plt.close()\n",
    "\n",
    "def lines(data, attribute, reduction):\n",
    "    for d in DEGREES:\n",
    "        error = data[data[\"degree\"] == d].sort_values(\"epochs\")[attribute]\n",
    "        plt.scatter(EPOCHS, error, marker=\"v\")\n",
    "        plt.plot(EPOCHS, error, label=f\"grado {d}\")\n",
    "\n",
    "    plt.xlabel(\"Epoche\")\n",
    "    plt.ylabel(attribute.replace(\"_\", \" \").capitalize())\n",
    "    plt.legend(loc=\"upper right\")\n",
    "\n",
    "    tikzplotlib.save(f\"{OUTPUT}/epochs_{reduction}_{attribute}.tex\")\n",
    "    plt.close()\n",
    "\n",
    "    for e in EPOCHS:\n",
    "        error = data[data[\"epochs\"] == e].sort_values(\"degree\")[attribute]\n",
    "        plt.scatter(DEGREES, error, marker=\"v\")\n",
    "        plt.plot(DEGREES, error, label=f\"{e} epoche\")\n",
    "\n",
    "    plt.xlabel(\"Grado del polinomio\")\n",
    "    plt.ylabel(attribute.replace(\"_\", \" \").capitalize())\n",
    "    plt.legend(loc=\"upper right\")\n",
    "\n",
    "    tikzplotlib.save(f\"{OUTPUT}/degree_{reduction}_{attribute}.tex\")\n",
    "    plt.close()\n"
   ],
   "metadata": {
    "collapsed": false,
    "pycharm": {
     "name": "#%%\n"
    }
   }
  },
  {
   "cell_type": "code",
   "execution_count": 121,
   "outputs": [],
   "source": [
    "if os.path.exists(OUTPUT):\n",
    "    shutil.rmtree(OUTPUT)\n",
    "\n",
    "os.mkdir(OUTPUT)\n",
    "\n",
    "plt.rcParams['figure.figsize'] = [10, 8]\n",
    "\n",
    "for red in REDUCTIONS:\n",
    "    results = pd.read_csv(f\".{RESULTS_LOCATION}/{red}-kmmkp.csv\")\n",
    "\n",
    "    heatmap(results, \"test_error\", red)\n",
    "    heatmap(results, \"training_error\", red)\n",
    "\n",
    "    lines(results, \"test_error\", red)\n",
    "    lines(results, \"training_error\", red)"
   ],
   "metadata": {
    "collapsed": false,
    "pycharm": {
     "name": "#%%\n"
    }
   }
  },
  {
   "cell_type": "code",
   "execution_count": 122,
   "outputs": [
    {
     "data": {
      "text/plain": "<Figure size 720x576 with 2 Axes>",
      "image/png": "[encoded data removed]"
     },
     "metadata": {
      "needs_background": "light"
     },
     "output_type": "display_data"
    }
   ],
   "source": [
    "def f():\n",
    "    data = pd.read_csv(f\".{RESULTS_LOCATION}/1500-kmmkp.csv\")\n",
    "\n",
    "    inferno = plt.cm.get_cmap('inferno').reversed()\n",
    "    test_error = data[\"test_error\"].to_numpy().reshape((len(EPOCHS), len(DEGREES)))\n",
    "\n",
    "    plt.yticks(ticks=np.arange(len(EPOCHS)), labels=EPOCHS[::-1])\n",
    "    plt.xticks(ticks=np.arange(len(DEGREES)), labels=DEGREES)\n",
    "\n",
    "    hm = plt.imshow(test_error, cmap=inferno)\n",
    "    plt.colorbar(hm, cmap=inferno)\n",
    "\n",
    "    plt.xlabel(\"Epoche\")\n",
    "    plt.ylabel(\"Grado del polinomio\")\n",
    "\n",
    "f()"
   ],
   "metadata": {
    "collapsed": false,
    "pycharm": {
     "name": "#%%\n"
    }
   }
  }
 ],
 "metadata": {
  "kernelspec": {
   "display_name": "Python 3",
   "language": "python",
   "name": "python3"
  },
  "language_info": {
   "codemirror_mode": {
    "name": "ipython",
    "version": 2
   },
   "file_extension": ".py",
   "mimetype": "text/x-python",
   "name": "python",
   "nbconvert_exporter": "python",
   "pygments_lexer": "ipython2",
   "version": "2.7.6"
  }
 },
 "nbformat": 4,
 "nbformat_minor": 0
}