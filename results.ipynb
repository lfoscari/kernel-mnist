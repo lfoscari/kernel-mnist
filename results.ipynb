{
 "cells": [
  {
   "cell_type": "code",
   "execution_count": 3,
   "metadata": {},
   "outputs": [
    {
     "name": "stderr",
     "output_type": "stream",
     "text": [
      "/nix/store/1mhabzbhfd5jxri8jfyrslbl6w2bb38c-python3-3.9.6-env/lib/python3.9/site-packages/torchvision/datasets/mnist.py:498: UserWarning: The given NumPy array is not writeable, and PyTorch does not support non-writeable tensors. This means you can write to the underlying (supposedly non-writeable) NumPy array using the tensor. You may want to copy the array to protect its data or make it writeable before converting it to a tensor. This type of warning will be suppressed for the rest of this program. (Triggered internally at  /build/source/torch/csrc/utils/tensor_numpy.cpp:174.)\n",
      "  return torch.from_numpy(parsed.astype(m[2], copy=False)).view(*s)\n"
     ]
    }
   ],
   "source": [
    "import matplotlib.pyplot as plt\n",
    "from MNIST import label_set, batch_data_iter\n",
    "from MultilabelPerceptron import *\n",
    "from MultilabelKernelPerceptron import *\n",
    "from sklearn.kernel_approximation import Nystroem\n",
    "from KMeans import compress as kmean_compress"
   ]
  },
  {
   "cell_type": "code",
   "execution_count": 4,
   "metadata": {},
   "outputs": [],
   "source": [
    "(x_train, y_train), (x_test, y_test) = batch_data_iter(10_000, 500)"
   ]
  },
  {
   "cell_type": "markdown",
   "metadata": {},
   "source": [
    "## Nystrom"
   ]
  },
  {
   "cell_type": "code",
   "execution_count": 7,
   "metadata": {},
   "outputs": [],
   "source": [
    "nystrom_error = []\n",
    "\n",
    "for degree in range(1, 7):\n",
    "\tkernel_approx = Nystroem(kernel=\"polynomial\", degree=degree, coef0=1, n_components=100)\n",
    "\tkernel_approx = kernel_approx.fit(x_train)\n",
    "\n",
    "\tx_train_ny = torch.tensor(kernel_approx.transform(x_train),  dtype=x_train.dtype)\n",
    "\tx_test_ny = torch.tensor(kernel_approx.transform(x_test),  dtype=x_test.dtype)\n",
    "\n",
    "\tepoch_error = []\n",
    "\n",
    "\tfor epoch in range(1, 11):\n",
    "\t\tNMP = MultilabelPerceptron(label_set, epochs, x_train_ny, y_train)\n",
    "\t\tNMP.fit()\n",
    "\t\tepoch_error.append(NMP.predict(x_test_ny, y_test))\n",
    "\n",
    "\tnystrom_error.append(epoch_error)\n"
   ]
  },
  {
   "cell_type": "code",
   "execution_count": 8,
   "metadata": {},
   "outputs": [],
   "source": [
    "NMP = MultilabelPerceptron(label_set, epochs, x_train_ny, y_train)\n",
    "NMP.fit()"
   ]
  },
  {
   "cell_type": "code",
   "execution_count": 9,
   "metadata": {},
   "outputs": [
    {
     "data": {
      "text/plain": [
       "0.19200000166893005"
      ]
     },
     "execution_count": 9,
     "metadata": {},
     "output_type": "execute_result"
    }
   ],
   "source": [
    "NMP.predict(x_test_ny, y_test)"
   ]
  },
  {
   "cell_type": "code",
   "execution_count": null,
   "metadata": {},
   "outputs": [],
   "source": []
  }
 ],
 "metadata": {
  "interpreter": {
   "hash": "4cab02072cc68a9e5e88884312a6ed64609d0c1687a83634f06182a7a1b7c552"
  },
  "kernelspec": {
   "display_name": "Python 3.9.6 64-bit",
   "language": "python",
   "name": "python3"
  },
  "language_info": {
   "codemirror_mode": {
    "name": "ipython",
    "version": 3
   },
   "file_extension": ".py",
   "mimetype": "text/x-python",
   "name": "python",
   "nbconvert_exporter": "python",
   "pygments_lexer": "ipython3",
   "version": "3.9.6"
  },
  "orig_nbformat": 4
 },
 "nbformat": 4,
 "nbformat_minor": 2
}
